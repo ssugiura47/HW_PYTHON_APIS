{
 "cells": [
  {
   "cell_type": "code",
   "execution_count": 1,
   "metadata": {},
   "outputs": [
    {
     "data": {
      "text/plain": [
       "'C:\\\\Users\\\\sakis\\\\Desktop\\\\ucd-sac-data-pt-06-2020-u-c\\\\05-Matplotlib\\\\3\\\\Activities\\\\04-Ins_Standard_Error\\\\Solved'"
      ]
     },
     "execution_count": 1,
     "metadata": {},
     "output_type": "execute_result"
    }
   ],
   "source": [
    "pwd"
   ]
  },
  {
   "cell_type": "code",
   "execution_count": 2,
   "metadata": {},
   "outputs": [
    {
     "name": "stdout",
     "output_type": "stream",
     "text": [
      "C:\\Users\\sakis\\Desktop\n"
     ]
    }
   ],
   "source": [
    "cd ..\\..\\..\\..\\..\\.."
   ]
  },
  {
   "cell_type": "code",
   "execution_count": 3,
   "metadata": {},
   "outputs": [
    {
     "name": "stdout",
     "output_type": "stream",
     "text": [
      " Volume in drive C is Windows\n",
      " Volume Serial Number is E490-A675\n",
      "\n",
      " Directory of C:\\Users\\sakis\\Desktop\n",
      "\n",
      "08/13/2020  09:16 PM    <DIR>          .\n",
      "08/13/2020  09:16 PM    <DIR>          ..\n",
      "07/27/2020  07:07 PM    <DIR>          .ipynb_checkpoints\n",
      "08/11/2020  11:53 PM           127,541 Blush Charge.pdf\n",
      "08/12/2020  06:01 PM         4,428,583 Blush Convo.docx\n",
      "08/11/2020  11:43 PM            72,041 Blush Portal.pdf\n",
      "07/30/2020  07:17 AM           242,030 Comcast.pdf\n",
      "07/30/2020  07:33 AM           112,362 Dispute.pdf\n",
      "07/30/2020  07:03 PM           170,287 Doc1.docx\n",
      "06/27/2020  05:10 PM             2,408 GitHub Desktop.lnk\n",
      "08/04/2020  08:54 PM            72,202 Gmail - Your Chewy order has shipped! - rebate.pdf\n",
      "08/04/2020  08:53 PM           121,644 Gmail - Your Chewy order has shipped!.pdf\n",
      "06/20/2020  07:08 PM             1,771 Google Drive.lnk\n",
      "08/11/2020  08:00 PM    <DIR>          HW_MATPLOTLIB\n",
      "07/26/2020  10:34 AM    <DIR>          HW_PANDAS\n",
      "07/22/2020  06:34 AM    <DIR>          HW_PYTHON\n",
      "08/13/2020  09:21 PM    <DIR>          HW_PYTHON_APIS\n",
      "07/21/2020  06:25 PM    <DIR>          HW_VBA\n",
      "07/25/2020  09:08 PM             1,264 LINE.lnk\n",
      "08/12/2020  12:29 AM            20,019 Marriot Charge.pdf\n",
      "07/26/2020  05:57 PM    <DIR>          pandas-challenge\n",
      "07/28/2020  10:50 PM           235,445 Portal.pdf\n",
      "07/28/2020  10:51 PM           363,185 Portal_print.pdf\n",
      "06/27/2020  09:08 PM    <DIR>          PREWORK_SS\n",
      "06/20/2020  07:34 PM             1,414 Slack.lnk\n",
      "07/26/2020  10:43 AM    <DIR>          UC Davis Bootcamp\n",
      "08/05/2020  06:30 PM    <DIR>          ucd-sac-data-pt-06-2020-u-c\n",
      "07/27/2020  06:28 PM             1,250 Untitled.ipynb\n",
      "07/27/2020  07:09 PM             1,225 Untitled1.ipynb\n",
      "08/09/2020  09:44 AM             6,615 use this.txt\n",
      "06/26/2020  07:17 AM             1,457 Visual Studio Code.lnk\n",
      "06/20/2020  08:13 PM             2,523 WebExplorer.lnk\n",
      "06/20/2020  06:41 PM             1,938 Zoom.lnk\n",
      "              21 File(s)      5,987,204 bytes\n",
      "              12 Dir(s)  168,384,110,592 bytes free\n"
     ]
    }
   ],
   "source": [
    "ls"
   ]
  },
  {
   "cell_type": "code",
   "execution_count": 4,
   "metadata": {},
   "outputs": [
    {
     "name": "stdout",
     "output_type": "stream",
     "text": [
      "C:\\Users\\sakis\\Desktop\\HW_PYTHON_APIS\n"
     ]
    }
   ],
   "source": [
    "cd HW_PYTHON_APIS\n"
   ]
  },
  {
   "cell_type": "code",
   "execution_count": 5,
   "metadata": {},
   "outputs": [
    {
     "name": "stdout",
     "output_type": "stream",
     "text": [
      " Volume in drive C is Windows\n",
      " Volume Serial Number is E490-A675\n",
      "\n",
      " Directory of C:\\Users\\sakis\\Desktop\\HW_PYTHON_APIS\n",
      "\n",
      "08/13/2020  09:21 PM    <DIR>          .\n",
      "08/13/2020  09:21 PM    <DIR>          ..\n",
      "08/13/2020  09:17 PM    <DIR>          Homework\n",
      "08/13/2020  09:20 PM    <DIR>          VacationPy\n",
      "08/13/2020  09:20 PM    <DIR>          WeatherPy\n",
      "               0 File(s)              0 bytes\n",
      "               5 Dir(s)  168,383,799,296 bytes free\n"
     ]
    }
   ],
   "source": [
    "ls"
   ]
  },
  {
   "cell_type": "code",
   "execution_count": 6,
   "metadata": {},
   "outputs": [
    {
     "name": "stdout",
     "output_type": "stream",
     "text": [
      "C:\\Users\\sakis\\Desktop\\HW_PYTHON_APIS\\WeatherPy\n"
     ]
    }
   ],
   "source": [
    "cd WeatherPy"
   ]
  },
  {
   "cell_type": "code",
   "execution_count": null,
   "metadata": {},
   "outputs": [],
   "source": []
  }
 ],
 "metadata": {
  "kernelspec": {
   "display_name": "Python 3",
   "language": "python",
   "name": "python3"
  },
  "language_info": {
   "codemirror_mode": {
    "name": "ipython",
    "version": 3
   },
   "file_extension": ".py",
   "mimetype": "text/x-python",
   "name": "python",
   "nbconvert_exporter": "python",
   "pygments_lexer": "ipython3",
   "version": "3.7.6"
  }
 },
 "nbformat": 4,
 "nbformat_minor": 4
}
